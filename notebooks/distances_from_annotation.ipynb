{
 "cells": [
  {
   "cell_type": "code",
   "execution_count": 5,
   "metadata": {},
   "outputs": [],
   "source": [
    "from scipy import signal\n",
    "import numpy as np\n",
    "import pandas as pd\n",
    "\n",
    "import bisect\n",
    "import importlib\n",
    "\n",
    "import warnings"
   ]
  },
  {
   "cell_type": "code",
   "execution_count": 6,
   "metadata": {},
   "outputs": [],
   "source": [
    "%matplotlib inline\n",
    "\n",
    "# Make inline plots vector graphics instead of raster graphics\n",
    "from matplotlib_inline.backend_inline import set_matplotlib_formats\n",
    "#set_matplotlib_formats('pdf', 'svg')\n",
    "set_matplotlib_formats('retina', 'png')\n",
    "\n",
    "import matplotlib\n",
    "import matplotlib.pyplot as plt\n",
    "from matplotlib.colors import ListedColormap\n",
    "from matplotlib.patches import Rectangle\n",
    "from matplotlib.lines import Line2D\n",
    "\n",
    "#matplotlib.rcParams['figure.figsize'] = (20.0, 10.0)\n",
    "\n",
    "# import mpld3\n",
    "\n",
    "import seaborn as sns\n",
    "sns.set() # sets seaborn default \"prettyness:\n",
    "sns.set_style(\"white\")\n",
    "sns.set_context(\"notebook\")\n",
    "\n",
    "# lowess for plotting\n",
    "from statsmodels.nonparametric.smoothers_lowess import lowess\n",
    "\n",
    "\n",
    "def stairs(df, start='start', end='end', pos='pos', endtrim=0):\n",
    "    \"Turn a df with start, end into one with pos to plot as stairs\"\n",
    "    df1 = df.copy(deep=True)\n",
    "    df2 = df.copy(deep=True)\n",
    "    df1[pos] = df1[start]\n",
    "    df2[pos] = df2[end] - endtrim\n",
    "    return pd.concat([df1, df2]).sort_values([start, end])"
   ]
  },
  {
   "cell_type": "markdown",
   "metadata": {},
   "source": [
    "Monospace font for numbers in tables:"
   ]
  },
  {
   "cell_type": "code",
   "execution_count": 7,
   "metadata": {},
   "outputs": [
    {
     "data": {
      "text/html": [
       "<style> table { font-variant-numeric: tabular-nums; } </style>\n"
      ],
      "text/plain": [
       "<IPython.core.display.HTML object>"
      ]
     },
     "metadata": {},
     "output_type": "display_data"
    }
   ],
   "source": [
    "%%html\n",
    "<style> table { font-variant-numeric: tabular-nums; } </style>"
   ]
  },
  {
   "cell_type": "markdown",
   "metadata": {},
   "source": [
    "## Load data\n",
    "\n",
    "Hotspot data:"
   ]
  },
  {
   "cell_type": "code",
   "execution_count": 8,
   "metadata": {},
   "outputs": [
    {
     "data": {
      "text/html": [
       "<div>\n",
       "<style scoped>\n",
       "    .dataframe tbody tr th:only-of-type {\n",
       "        vertical-align: middle;\n",
       "    }\n",
       "\n",
       "    .dataframe tbody tr th {\n",
       "        vertical-align: top;\n",
       "    }\n",
       "\n",
       "    .dataframe thead th {\n",
       "        text-align: right;\n",
       "    }\n",
       "</style>\n",
       "<table border=\"1\" class=\"dataframe\">\n",
       "  <thead>\n",
       "    <tr style=\"text-align: right;\">\n",
       "      <th></th>\n",
       "      <th>chrom</th>\n",
       "      <th>start</th>\n",
       "      <th>end</th>\n",
       "      <th>pos</th>\n",
       "    </tr>\n",
       "  </thead>\n",
       "  <tbody>\n",
       "    <tr>\n",
       "      <th>0</th>\n",
       "      <td>1</td>\n",
       "      <td>6892116</td>\n",
       "      <td>6896116</td>\n",
       "      <td>6894116</td>\n",
       "    </tr>\n",
       "    <tr>\n",
       "      <th>1</th>\n",
       "      <td>1</td>\n",
       "      <td>8803005</td>\n",
       "      <td>8807005</td>\n",
       "      <td>8805005</td>\n",
       "    </tr>\n",
       "    <tr>\n",
       "      <th>2</th>\n",
       "      <td>1</td>\n",
       "      <td>9684030</td>\n",
       "      <td>9690030</td>\n",
       "      <td>9687030</td>\n",
       "    </tr>\n",
       "    <tr>\n",
       "      <th>3</th>\n",
       "      <td>1</td>\n",
       "      <td>10395061</td>\n",
       "      <td>10399061</td>\n",
       "      <td>10397061</td>\n",
       "    </tr>\n",
       "    <tr>\n",
       "      <th>4</th>\n",
       "      <td>1</td>\n",
       "      <td>10500751</td>\n",
       "      <td>10506751</td>\n",
       "      <td>10503751</td>\n",
       "    </tr>\n",
       "  </tbody>\n",
       "</table>\n",
       "</div>"
      ],
      "text/plain": [
       "  chrom     start       end       pos\n",
       "0     1   6892116   6896116   6894116\n",
       "1     1   8803005   8807005   8805005\n",
       "2     1   9684030   9690030   9687030\n",
       "3     1  10395061  10399061  10397061\n",
       "4     1  10500751  10506751  10503751"
      ]
     },
     "execution_count": 8,
     "metadata": {},
     "output_type": "execute_result"
    }
   ],
   "source": [
    "hotspots = pd.read_csv('/project/Birds/faststorage/data/bed/hotspots.bed', names=['chrom', 'start', 'end'], sep='\\t')\n",
    "hotspots['pos'] = (hotspots.start + (hotspots.end - hotspots.start) / 2).round().astype(int)\n",
    "hotspots['chrom'] = hotspots.chrom.str.replace('chr', '')\n",
    "hotspots.rename(columns={'stop': 'end'}, inplace=True)\n",
    "hotspots.head()"
   ]
  },
  {
   "cell_type": "markdown",
   "metadata": {},
   "source": [
    "Composition and substitution data:"
   ]
  },
  {
   "cell_type": "code",
   "execution_count": 9,
   "metadata": {},
   "outputs": [
    {
     "ename": "FileNotFoundError",
     "evalue": "[Errno 2] No such file or directory: '/Users/kmt/Dropbox/Shared/jonas_kasper/skew/chr1.skew.txt'",
     "output_type": "error",
     "traceback": [
      "\u001b[0;31m---------------------------------------------------------------------------\u001b[0m",
      "\u001b[0;31mFileNotFoundError\u001b[0m                         Traceback (most recent call last)",
      "\u001b[0;32m/scratch/63472910/ipykernel_9919/1931251254.py\u001b[0m in \u001b[0;36m<module>\u001b[0;34m\u001b[0m\n\u001b[1;32m      4\u001b[0m \u001b[0mlst\u001b[0m \u001b[0;34m=\u001b[0m \u001b[0mlist\u001b[0m\u001b[0;34m(\u001b[0m\u001b[0;34m)\u001b[0m\u001b[0;34m\u001b[0m\u001b[0;34m\u001b[0m\u001b[0m\n\u001b[1;32m      5\u001b[0m \u001b[0;32mfor\u001b[0m \u001b[0mchrom\u001b[0m \u001b[0;32min\u001b[0m \u001b[0mchromosomes\u001b[0m\u001b[0;34m:\u001b[0m\u001b[0;34m\u001b[0m\u001b[0;34m\u001b[0m\u001b[0m\n\u001b[0;32m----> 6\u001b[0;31m     \u001b[0mdf\u001b[0m \u001b[0;34m=\u001b[0m \u001b[0mpd\u001b[0m\u001b[0;34m.\u001b[0m\u001b[0mread_csv\u001b[0m\u001b[0;34m(\u001b[0m\u001b[0mtmpl\u001b[0m\u001b[0;34m.\u001b[0m\u001b[0mformat\u001b[0m\u001b[0;34m(\u001b[0m\u001b[0mchrom\u001b[0m\u001b[0;34m)\u001b[0m\u001b[0;34m,\u001b[0m \u001b[0msep\u001b[0m\u001b[0;34m=\u001b[0m\u001b[0;34m' '\u001b[0m\u001b[0;34m)\u001b[0m\u001b[0;34m\u001b[0m\u001b[0;34m\u001b[0m\u001b[0m\n\u001b[0m\u001b[1;32m      7\u001b[0m     \u001b[0mdf\u001b[0m\u001b[0;34m[\u001b[0m\u001b[0;34m'chrom'\u001b[0m\u001b[0;34m]\u001b[0m \u001b[0;34m=\u001b[0m \u001b[0mchrom\u001b[0m\u001b[0;34m\u001b[0m\u001b[0;34m\u001b[0m\u001b[0m\n\u001b[1;32m      8\u001b[0m     \u001b[0mlst\u001b[0m\u001b[0;34m.\u001b[0m\u001b[0mappend\u001b[0m\u001b[0;34m(\u001b[0m\u001b[0mdf\u001b[0m\u001b[0;34m)\u001b[0m\u001b[0;34m\u001b[0m\u001b[0;34m\u001b[0m\u001b[0m\n",
      "\u001b[0;32m~/anaconda3/envs/hotspots_notebooks/lib/python3.7/site-packages/pandas/util/_decorators.py\u001b[0m in \u001b[0;36mwrapper\u001b[0;34m(*args, **kwargs)\u001b[0m\n\u001b[1;32m    309\u001b[0m                     \u001b[0mstacklevel\u001b[0m\u001b[0;34m=\u001b[0m\u001b[0mstacklevel\u001b[0m\u001b[0;34m,\u001b[0m\u001b[0;34m\u001b[0m\u001b[0;34m\u001b[0m\u001b[0m\n\u001b[1;32m    310\u001b[0m                 )\n\u001b[0;32m--> 311\u001b[0;31m             \u001b[0;32mreturn\u001b[0m \u001b[0mfunc\u001b[0m\u001b[0;34m(\u001b[0m\u001b[0;34m*\u001b[0m\u001b[0margs\u001b[0m\u001b[0;34m,\u001b[0m \u001b[0;34m**\u001b[0m\u001b[0mkwargs\u001b[0m\u001b[0;34m)\u001b[0m\u001b[0;34m\u001b[0m\u001b[0;34m\u001b[0m\u001b[0m\n\u001b[0m\u001b[1;32m    312\u001b[0m \u001b[0;34m\u001b[0m\u001b[0m\n\u001b[1;32m    313\u001b[0m         \u001b[0;32mreturn\u001b[0m \u001b[0mwrapper\u001b[0m\u001b[0;34m\u001b[0m\u001b[0;34m\u001b[0m\u001b[0m\n",
      "\u001b[0;32m~/anaconda3/envs/hotspots_notebooks/lib/python3.7/site-packages/pandas/io/parsers/readers.py\u001b[0m in \u001b[0;36mread_csv\u001b[0;34m(filepath_or_buffer, sep, delimiter, header, names, index_col, usecols, squeeze, prefix, mangle_dupe_cols, dtype, engine, converters, true_values, false_values, skipinitialspace, skiprows, skipfooter, nrows, na_values, keep_default_na, na_filter, verbose, skip_blank_lines, parse_dates, infer_datetime_format, keep_date_col, date_parser, dayfirst, cache_dates, iterator, chunksize, compression, thousands, decimal, lineterminator, quotechar, quoting, doublequote, escapechar, comment, encoding, encoding_errors, dialect, error_bad_lines, warn_bad_lines, on_bad_lines, delim_whitespace, low_memory, memory_map, float_precision, storage_options)\u001b[0m\n\u001b[1;32m    584\u001b[0m     \u001b[0mkwds\u001b[0m\u001b[0;34m.\u001b[0m\u001b[0mupdate\u001b[0m\u001b[0;34m(\u001b[0m\u001b[0mkwds_defaults\u001b[0m\u001b[0;34m)\u001b[0m\u001b[0;34m\u001b[0m\u001b[0;34m\u001b[0m\u001b[0m\n\u001b[1;32m    585\u001b[0m \u001b[0;34m\u001b[0m\u001b[0m\n\u001b[0;32m--> 586\u001b[0;31m     \u001b[0;32mreturn\u001b[0m \u001b[0m_read\u001b[0m\u001b[0;34m(\u001b[0m\u001b[0mfilepath_or_buffer\u001b[0m\u001b[0;34m,\u001b[0m \u001b[0mkwds\u001b[0m\u001b[0;34m)\u001b[0m\u001b[0;34m\u001b[0m\u001b[0;34m\u001b[0m\u001b[0m\n\u001b[0m\u001b[1;32m    587\u001b[0m \u001b[0;34m\u001b[0m\u001b[0m\n\u001b[1;32m    588\u001b[0m \u001b[0;34m\u001b[0m\u001b[0m\n",
      "\u001b[0;32m~/anaconda3/envs/hotspots_notebooks/lib/python3.7/site-packages/pandas/io/parsers/readers.py\u001b[0m in \u001b[0;36m_read\u001b[0;34m(filepath_or_buffer, kwds)\u001b[0m\n\u001b[1;32m    480\u001b[0m \u001b[0;34m\u001b[0m\u001b[0m\n\u001b[1;32m    481\u001b[0m     \u001b[0;31m# Create the parser.\u001b[0m\u001b[0;34m\u001b[0m\u001b[0;34m\u001b[0m\u001b[0;34m\u001b[0m\u001b[0m\n\u001b[0;32m--> 482\u001b[0;31m     \u001b[0mparser\u001b[0m \u001b[0;34m=\u001b[0m \u001b[0mTextFileReader\u001b[0m\u001b[0;34m(\u001b[0m\u001b[0mfilepath_or_buffer\u001b[0m\u001b[0;34m,\u001b[0m \u001b[0;34m**\u001b[0m\u001b[0mkwds\u001b[0m\u001b[0;34m)\u001b[0m\u001b[0;34m\u001b[0m\u001b[0;34m\u001b[0m\u001b[0m\n\u001b[0m\u001b[1;32m    483\u001b[0m \u001b[0;34m\u001b[0m\u001b[0m\n\u001b[1;32m    484\u001b[0m     \u001b[0;32mif\u001b[0m \u001b[0mchunksize\u001b[0m \u001b[0;32mor\u001b[0m \u001b[0miterator\u001b[0m\u001b[0;34m:\u001b[0m\u001b[0;34m\u001b[0m\u001b[0;34m\u001b[0m\u001b[0m\n",
      "\u001b[0;32m~/anaconda3/envs/hotspots_notebooks/lib/python3.7/site-packages/pandas/io/parsers/readers.py\u001b[0m in \u001b[0;36m__init__\u001b[0;34m(self, f, engine, **kwds)\u001b[0m\n\u001b[1;32m    809\u001b[0m             \u001b[0mself\u001b[0m\u001b[0;34m.\u001b[0m\u001b[0moptions\u001b[0m\u001b[0;34m[\u001b[0m\u001b[0;34m\"has_index_names\"\u001b[0m\u001b[0;34m]\u001b[0m \u001b[0;34m=\u001b[0m \u001b[0mkwds\u001b[0m\u001b[0;34m[\u001b[0m\u001b[0;34m\"has_index_names\"\u001b[0m\u001b[0;34m]\u001b[0m\u001b[0;34m\u001b[0m\u001b[0;34m\u001b[0m\u001b[0m\n\u001b[1;32m    810\u001b[0m \u001b[0;34m\u001b[0m\u001b[0m\n\u001b[0;32m--> 811\u001b[0;31m         \u001b[0mself\u001b[0m\u001b[0;34m.\u001b[0m\u001b[0m_engine\u001b[0m \u001b[0;34m=\u001b[0m \u001b[0mself\u001b[0m\u001b[0;34m.\u001b[0m\u001b[0m_make_engine\u001b[0m\u001b[0;34m(\u001b[0m\u001b[0mself\u001b[0m\u001b[0;34m.\u001b[0m\u001b[0mengine\u001b[0m\u001b[0;34m)\u001b[0m\u001b[0;34m\u001b[0m\u001b[0;34m\u001b[0m\u001b[0m\n\u001b[0m\u001b[1;32m    812\u001b[0m \u001b[0;34m\u001b[0m\u001b[0m\n\u001b[1;32m    813\u001b[0m     \u001b[0;32mdef\u001b[0m \u001b[0mclose\u001b[0m\u001b[0;34m(\u001b[0m\u001b[0mself\u001b[0m\u001b[0;34m)\u001b[0m\u001b[0;34m:\u001b[0m\u001b[0;34m\u001b[0m\u001b[0;34m\u001b[0m\u001b[0m\n",
      "\u001b[0;32m~/anaconda3/envs/hotspots_notebooks/lib/python3.7/site-packages/pandas/io/parsers/readers.py\u001b[0m in \u001b[0;36m_make_engine\u001b[0;34m(self, engine)\u001b[0m\n\u001b[1;32m   1038\u001b[0m             )\n\u001b[1;32m   1039\u001b[0m         \u001b[0;31m# error: Too many arguments for \"ParserBase\"\u001b[0m\u001b[0;34m\u001b[0m\u001b[0;34m\u001b[0m\u001b[0;34m\u001b[0m\u001b[0m\n\u001b[0;32m-> 1040\u001b[0;31m         \u001b[0;32mreturn\u001b[0m \u001b[0mmapping\u001b[0m\u001b[0;34m[\u001b[0m\u001b[0mengine\u001b[0m\u001b[0;34m]\u001b[0m\u001b[0;34m(\u001b[0m\u001b[0mself\u001b[0m\u001b[0;34m.\u001b[0m\u001b[0mf\u001b[0m\u001b[0;34m,\u001b[0m \u001b[0;34m**\u001b[0m\u001b[0mself\u001b[0m\u001b[0;34m.\u001b[0m\u001b[0moptions\u001b[0m\u001b[0;34m)\u001b[0m  \u001b[0;31m# type: ignore[call-arg]\u001b[0m\u001b[0;34m\u001b[0m\u001b[0;34m\u001b[0m\u001b[0m\n\u001b[0m\u001b[1;32m   1041\u001b[0m \u001b[0;34m\u001b[0m\u001b[0m\n\u001b[1;32m   1042\u001b[0m     \u001b[0;32mdef\u001b[0m \u001b[0m_failover_to_python\u001b[0m\u001b[0;34m(\u001b[0m\u001b[0mself\u001b[0m\u001b[0;34m)\u001b[0m\u001b[0;34m:\u001b[0m\u001b[0;34m\u001b[0m\u001b[0;34m\u001b[0m\u001b[0m\n",
      "\u001b[0;32m~/anaconda3/envs/hotspots_notebooks/lib/python3.7/site-packages/pandas/io/parsers/c_parser_wrapper.py\u001b[0m in \u001b[0;36m__init__\u001b[0;34m(self, src, **kwds)\u001b[0m\n\u001b[1;32m     49\u001b[0m \u001b[0;34m\u001b[0m\u001b[0m\n\u001b[1;32m     50\u001b[0m         \u001b[0;31m# open handles\u001b[0m\u001b[0;34m\u001b[0m\u001b[0;34m\u001b[0m\u001b[0;34m\u001b[0m\u001b[0m\n\u001b[0;32m---> 51\u001b[0;31m         \u001b[0mself\u001b[0m\u001b[0;34m.\u001b[0m\u001b[0m_open_handles\u001b[0m\u001b[0;34m(\u001b[0m\u001b[0msrc\u001b[0m\u001b[0;34m,\u001b[0m \u001b[0mkwds\u001b[0m\u001b[0;34m)\u001b[0m\u001b[0;34m\u001b[0m\u001b[0;34m\u001b[0m\u001b[0m\n\u001b[0m\u001b[1;32m     52\u001b[0m         \u001b[0;32massert\u001b[0m \u001b[0mself\u001b[0m\u001b[0;34m.\u001b[0m\u001b[0mhandles\u001b[0m \u001b[0;32mis\u001b[0m \u001b[0;32mnot\u001b[0m \u001b[0;32mNone\u001b[0m\u001b[0;34m\u001b[0m\u001b[0;34m\u001b[0m\u001b[0m\n\u001b[1;32m     53\u001b[0m \u001b[0;34m\u001b[0m\u001b[0m\n",
      "\u001b[0;32m~/anaconda3/envs/hotspots_notebooks/lib/python3.7/site-packages/pandas/io/parsers/base_parser.py\u001b[0m in \u001b[0;36m_open_handles\u001b[0;34m(self, src, kwds)\u001b[0m\n\u001b[1;32m    227\u001b[0m             \u001b[0mmemory_map\u001b[0m\u001b[0;34m=\u001b[0m\u001b[0mkwds\u001b[0m\u001b[0;34m.\u001b[0m\u001b[0mget\u001b[0m\u001b[0;34m(\u001b[0m\u001b[0;34m\"memory_map\"\u001b[0m\u001b[0;34m,\u001b[0m \u001b[0;32mFalse\u001b[0m\u001b[0;34m)\u001b[0m\u001b[0;34m,\u001b[0m\u001b[0;34m\u001b[0m\u001b[0;34m\u001b[0m\u001b[0m\n\u001b[1;32m    228\u001b[0m             \u001b[0mstorage_options\u001b[0m\u001b[0;34m=\u001b[0m\u001b[0mkwds\u001b[0m\u001b[0;34m.\u001b[0m\u001b[0mget\u001b[0m\u001b[0;34m(\u001b[0m\u001b[0;34m\"storage_options\"\u001b[0m\u001b[0;34m,\u001b[0m \u001b[0;32mNone\u001b[0m\u001b[0;34m)\u001b[0m\u001b[0;34m,\u001b[0m\u001b[0;34m\u001b[0m\u001b[0;34m\u001b[0m\u001b[0m\n\u001b[0;32m--> 229\u001b[0;31m             \u001b[0merrors\u001b[0m\u001b[0;34m=\u001b[0m\u001b[0mkwds\u001b[0m\u001b[0;34m.\u001b[0m\u001b[0mget\u001b[0m\u001b[0;34m(\u001b[0m\u001b[0;34m\"encoding_errors\"\u001b[0m\u001b[0;34m,\u001b[0m \u001b[0;34m\"strict\"\u001b[0m\u001b[0;34m)\u001b[0m\u001b[0;34m,\u001b[0m\u001b[0;34m\u001b[0m\u001b[0;34m\u001b[0m\u001b[0m\n\u001b[0m\u001b[1;32m    230\u001b[0m         )\n\u001b[1;32m    231\u001b[0m \u001b[0;34m\u001b[0m\u001b[0m\n",
      "\u001b[0;32m~/anaconda3/envs/hotspots_notebooks/lib/python3.7/site-packages/pandas/io/common.py\u001b[0m in \u001b[0;36mget_handle\u001b[0;34m(path_or_buf, mode, encoding, compression, memory_map, is_text, errors, storage_options)\u001b[0m\n\u001b[1;32m    705\u001b[0m                 \u001b[0mencoding\u001b[0m\u001b[0;34m=\u001b[0m\u001b[0mioargs\u001b[0m\u001b[0;34m.\u001b[0m\u001b[0mencoding\u001b[0m\u001b[0;34m,\u001b[0m\u001b[0;34m\u001b[0m\u001b[0;34m\u001b[0m\u001b[0m\n\u001b[1;32m    706\u001b[0m                 \u001b[0merrors\u001b[0m\u001b[0;34m=\u001b[0m\u001b[0merrors\u001b[0m\u001b[0;34m,\u001b[0m\u001b[0;34m\u001b[0m\u001b[0;34m\u001b[0m\u001b[0m\n\u001b[0;32m--> 707\u001b[0;31m                 \u001b[0mnewline\u001b[0m\u001b[0;34m=\u001b[0m\u001b[0;34m\"\"\u001b[0m\u001b[0;34m,\u001b[0m\u001b[0;34m\u001b[0m\u001b[0;34m\u001b[0m\u001b[0m\n\u001b[0m\u001b[1;32m    708\u001b[0m             )\n\u001b[1;32m    709\u001b[0m         \u001b[0;32melse\u001b[0m\u001b[0;34m:\u001b[0m\u001b[0;34m\u001b[0m\u001b[0;34m\u001b[0m\u001b[0m\n",
      "\u001b[0;31mFileNotFoundError\u001b[0m: [Errno 2] No such file or directory: '/Users/kmt/Dropbox/Shared/jonas_kasper/skew/chr1.skew.txt'"
     ]
    }
   ],
   "source": [
    "chromosomes = ['1', '1A', '2', '3', '4', '4A', '5', '6', '7', \n",
    "               '8', '9', '10', '11', '12', '13', '14', '15']\n",
    "tmpl = '/Users/kmt/Dropbox/Shared/jonas_kasper/skew/chr{}.skew.txt'\n",
    "lst = list()\n",
    "for chrom in chromosomes:\n",
    "    df = pd.read_csv(tmpl.format(chrom), sep=' ')\n",
    "    df['chrom'] = chrom\n",
    "    lst.append(df)\n",
    "skew_data = pd.concat(lst)\n",
    "skew_data['end'] = skew_data.start + 1000\n",
    "skew_data.head()"
   ]
  },
  {
   "cell_type": "markdown",
   "metadata": {},
   "source": [
    "Add additional stats to skew data set:"
   ]
  },
  {
   "cell_type": "code",
   "execution_count": 10,
   "metadata": {},
   "outputs": [
    {
     "ename": "NameError",
     "evalue": "name 'skew_data' is not defined",
     "output_type": "error",
     "traceback": [
      "\u001b[0;31m---------------------------------------------------------------------------\u001b[0m",
      "\u001b[0;31mNameError\u001b[0m                                 Traceback (most recent call last)",
      "\u001b[0;32m/scratch/63472910/ipykernel_9919/3485636491.py\u001b[0m in \u001b[0;36m<module>\u001b[0;34m\u001b[0m\n\u001b[1;32m      1\u001b[0m \u001b[0;31m# composition skews:\u001b[0m\u001b[0;34m\u001b[0m\u001b[0;34m\u001b[0m\u001b[0;34m\u001b[0m\u001b[0m\n\u001b[0;32m----> 2\u001b[0;31m \u001b[0mskew_data\u001b[0m\u001b[0;34m[\u001b[0m\u001b[0;34m'skew_GC'\u001b[0m\u001b[0;34m]\u001b[0m \u001b[0;34m=\u001b[0m \u001b[0;34m(\u001b[0m\u001b[0mskew_data\u001b[0m\u001b[0;34m.\u001b[0m\u001b[0mnG\u001b[0m\u001b[0;34m-\u001b[0m\u001b[0mskew_data\u001b[0m\u001b[0;34m.\u001b[0m\u001b[0mnC\u001b[0m\u001b[0;34m)\u001b[0m\u001b[0;34m/\u001b[0m\u001b[0;34m(\u001b[0m\u001b[0mskew_data\u001b[0m\u001b[0;34m.\u001b[0m\u001b[0mnG\u001b[0m\u001b[0;34m+\u001b[0m\u001b[0mskew_data\u001b[0m\u001b[0;34m.\u001b[0m\u001b[0mnC\u001b[0m\u001b[0;34m)\u001b[0m\u001b[0;34m\u001b[0m\u001b[0;34m\u001b[0m\u001b[0m\n\u001b[0m\u001b[1;32m      3\u001b[0m \u001b[0mskew_data\u001b[0m\u001b[0;34m[\u001b[0m\u001b[0;34m'skew_TA'\u001b[0m\u001b[0;34m]\u001b[0m \u001b[0;34m=\u001b[0m \u001b[0;34m(\u001b[0m\u001b[0mskew_data\u001b[0m\u001b[0;34m.\u001b[0m\u001b[0mnT\u001b[0m\u001b[0;34m-\u001b[0m\u001b[0mskew_data\u001b[0m\u001b[0;34m.\u001b[0m\u001b[0mnA\u001b[0m\u001b[0;34m)\u001b[0m\u001b[0;34m/\u001b[0m\u001b[0;34m(\u001b[0m\u001b[0mskew_data\u001b[0m\u001b[0;34m.\u001b[0m\u001b[0mnT\u001b[0m\u001b[0;34m+\u001b[0m\u001b[0mskew_data\u001b[0m\u001b[0;34m.\u001b[0m\u001b[0mnA\u001b[0m\u001b[0;34m)\u001b[0m\u001b[0;34m\u001b[0m\u001b[0;34m\u001b[0m\u001b[0m\n\u001b[1;32m      4\u001b[0m \u001b[0mskew_data\u001b[0m\u001b[0;34m[\u001b[0m\u001b[0;34m's'\u001b[0m\u001b[0;34m]\u001b[0m \u001b[0;34m=\u001b[0m \u001b[0mskew_data\u001b[0m\u001b[0;34m.\u001b[0m\u001b[0mskew_GC\u001b[0m \u001b[0;34m+\u001b[0m \u001b[0mskew_data\u001b[0m\u001b[0;34m.\u001b[0m\u001b[0mskew_TA\u001b[0m \u001b[0;31m#(skew_data.skew_GC - skew_data.skew_GC.shift()) + (skew_data.skew_TA - skew_data.skew_TA).shift()\u001b[0m\u001b[0;34m\u001b[0m\u001b[0;34m\u001b[0m\u001b[0m\n\u001b[1;32m      5\u001b[0m \u001b[0mskew_data\u001b[0m\u001b[0;34m[\u001b[0m\u001b[0;34m's_diff'\u001b[0m\u001b[0;34m]\u001b[0m \u001b[0;34m=\u001b[0m \u001b[0mskew_data\u001b[0m\u001b[0;34m.\u001b[0m\u001b[0ms\u001b[0m \u001b[0;34m-\u001b[0m \u001b[0mskew_data\u001b[0m\u001b[0;34m.\u001b[0m\u001b[0ms\u001b[0m\u001b[0;34m.\u001b[0m\u001b[0mshift\u001b[0m\u001b[0;34m(\u001b[0m\u001b[0;34m)\u001b[0m\u001b[0;34m\u001b[0m\u001b[0;34m\u001b[0m\u001b[0m\n",
      "\u001b[0;31mNameError\u001b[0m: name 'skew_data' is not defined"
     ]
    }
   ],
   "source": [
    "# composition skews:\n",
    "skew_data['skew_GC'] = (skew_data.nG-skew_data.nC)/(skew_data.nG+skew_data.nC)\n",
    "skew_data['skew_TA'] = (skew_data.nT-skew_data.nA)/(skew_data.nT+skew_data.nA)\n",
    "skew_data['s'] = skew_data.skew_GC + skew_data.skew_TA #(skew_data.skew_GC - skew_data.skew_GC.shift()) + (skew_data.skew_TA - skew_data.skew_TA).shift()\n",
    "skew_data['s_diff'] = skew_data.s - skew_data.s.shift()\n",
    "\n",
    "# equilibrium composition skews:\n",
    "GCflux = (skew_data.nA2C + skew_data.nT2C + skew_data.nA2G + skew_data.nT2G) / \\\n",
    "                (skew_data.nC2A + skew_data.nC2T + skew_data.nG2A + skew_data.nT2C)\n",
    "skew_data['GCstar'] = GCflux/(1 + GCflux)\n",
    "\n",
    "# substitution skews:\n",
    "skew_TCAG = (skew_data.nT2C-skew_data.nA2G)/(skew_data.nT2C+skew_data.nA2G)\n",
    "\n",
    "# equilibrium substution skews:\n",
    "\n",
    "\n",
    "\n",
    "skew_data.reset_index(inplace=True)\n",
    "skew_data.head()"
   ]
  },
  {
   "cell_type": "markdown",
   "metadata": {},
   "source": [
    "CG islands:"
   ]
  },
  {
   "cell_type": "code",
   "execution_count": null,
   "metadata": {},
   "outputs": [],
   "source": [
    "cgi = pd.read_csv('/project/Birds/faststorage/data/bed/CGI-taeGut1.txt', sep='\\t')\n",
    "cgi['pos'] = (cgi.start + (cgi.end - cgi.start) / 2).round().astype(int)\n",
    "cgi['chrom'] = cgi['chr'].str.replace('chr', '')\n",
    "cgi.head()"
   ]
  },
  {
   "cell_type": "markdown",
   "metadata": {},
   "source": [
    "Length distribution of CGIs:"
   ]
  },
  {
   "cell_type": "code",
   "execution_count": null,
   "metadata": {},
   "outputs": [],
   "source": [
    "plt.hist(cgi.end-cgi.start, bins=50) ;"
   ]
  },
  {
   "cell_type": "markdown",
   "metadata": {},
   "source": [
    "Transcription start sites:"
   ]
  },
  {
   "cell_type": "code",
   "execution_count": null,
   "metadata": {},
   "outputs": [],
   "source": [
    "tss_plus = pd.read_csv('/project/Birds/faststorage/data/bed/tss_plus_1bp.bed', names=['chrom', 'start', 'end'], sep='\\t')\n",
    "tss_plus['pos'] = tss_plus.start\n",
    "tss_plus['chrom'] = tss_plus.chrom.str.replace('chr', '')\n",
    "tss_plus = tss_plus.loc[tss_plus.chrom.isin(chromosomes)]\n",
    "tss_plus.head()"
   ]
  },
  {
   "cell_type": "code",
   "execution_count": null,
   "metadata": {},
   "outputs": [],
   "source": [
    "tss_minus = pd.read_csv('/project/Birds/faststorage/data/bed/tss_minus_1bp.bed', names=['chrom', 'start', 'end'], sep='\\t').assign(pos=lambda df: df.start)\n",
    "tss_minus['pos'] = tss_minus.start\n",
    "tss_minus['chrom'] = tss_minus.chrom.str.replace('chr', '')\n",
    "tss_minus = tss_minus.loc[tss_minus.chrom.isin(chromosomes)]\n",
    "tss_minus.head()"
   ]
  },
  {
   "cell_type": "code",
   "execution_count": null,
   "metadata": {},
   "outputs": [],
   "source": [
    "tss = pd.concat([tss_plus, tss_minus])"
   ]
  },
  {
   "cell_type": "markdown",
   "metadata": {},
   "source": [
    "Transcription end sites:"
   ]
  },
  {
   "cell_type": "code",
   "execution_count": null,
   "metadata": {},
   "outputs": [],
   "source": [
    "tes_plus = pd.read_csv('/project/Birds/faststorage/data/bed/tes_plus_1bp.bed', names=['chrom', 'start', 'end'], sep='\\t')\n",
    "tes_plus['pos'] = tes_plus.start\n",
    "tes_plus['chrom'] = tes_plus.chrom.str.replace('chr', '')\n",
    "tes_plus = tes_plus.loc[tes_plus.chrom.isin(chromosomes)]"
   ]
  },
  {
   "cell_type": "code",
   "execution_count": null,
   "metadata": {},
   "outputs": [],
   "source": [
    "tes_minus = pd.read_csv('/project/Birds/faststorage/data/bed/tes_minus_1bp.bed', names=['chrom', 'start', 'end'], sep='\\t').assign(pos=lambda df: df.start)\n",
    "tes_minus['pos'] = tes_minus.start\n",
    "tes_minus['chrom'] = tes_minus.chrom.str.replace('chr', '')\n",
    "tes_minus = tes_minus.loc[tes_minus.chrom.isin(chromosomes)]"
   ]
  },
  {
   "cell_type": "code",
   "execution_count": null,
   "metadata": {},
   "outputs": [],
   "source": [
    "tes = pd.concat([tes_plus, tes_minus])"
   ]
  },
  {
   "cell_type": "markdown",
   "metadata": {},
   "source": [
    "Introns:"
   ]
  },
  {
   "cell_type": "code",
   "execution_count": null,
   "metadata": {},
   "outputs": [],
   "source": [
    "introns_plus = pd.read_csv('/project/Birds/faststorage/data/bed/introns_plus.bed', names=['chrom', 'start', 'end'], sep='\\t')\n",
    "introns_plus['strand'] = 1\n",
    "introns_minus = pd.read_csv('/project/Birds/faststorage/data/bed/introns_minus.bed', names=['chrom', 'start', 'end'], sep='\\t')\n",
    "introns_minus['strand'] = -1\n",
    "introns = pd.concat([introns_plus, introns_minus])\n",
    "introns['pos'] = introns.start\n",
    "introns['chrom'] = introns.chrom.str.replace('chr', '')\n",
    "introns = introns.loc[introns.chrom.isin(chromosomes)]\n",
    "introns = introns.sort_values(['chrom', 'start', 'end'])\n",
    "introns.head()"
   ]
  },
  {
   "cell_type": "code",
   "execution_count": null,
   "metadata": {},
   "outputs": [],
   "source": [
    "# introns = pd.read_csv('/project/Birds/faststorage/data/bed/introns.bed', names=['chrom', 'start', 'end'], sep='\\t')\n",
    "# introns['pos'] = introns.start\n",
    "# introns['chrom'] = introns.chrom.str.replace('chr', '')\n",
    "# introns = introns.loc[introns.chrom.isin(chromosomes)]\n",
    "# introns.head()"
   ]
  },
  {
   "cell_type": "code",
   "execution_count": null,
   "metadata": {},
   "outputs": [],
   "source": [
    "len(hotspots), len(cgi), len(tss), len(tes)"
   ]
  },
  {
   "cell_type": "markdown",
   "metadata": {},
   "source": [
    "## Functions for remapping from centers of hotspots"
   ]
  },
  {
   "cell_type": "code",
   "execution_count": null,
   "metadata": {},
   "outputs": [],
   "source": [
    "import genominterv\n",
    "\n",
    "importlib.reload(genominterv)\n",
    "\n",
    "def get_remapped(query, annot):\n",
    "    \"Remaps all annot that does not overlap query\"\n",
    "    \n",
    "    remapped = (genominterv.remap_interval_data(query, annot)\n",
    "                      # exclude windows between ends of chromosomes and a hotspot:\n",
    "                      .loc[lambda df: ~df.prox_start.isnull() & ~df.prox_end.isnull()]\n",
    "                     )\n",
    "    return remapped\n",
    "\n",
    "def get_overlapping(query, annot):\n",
    "    \"Gets all query that spans an annot\"\n",
    "    \n",
    "    query_grouped = query.groupby('chrom')\n",
    "    annot_grouped = annot.groupby('chrom')\n",
    "\n",
    "    df_list = list()\n",
    "    for chrom in chromosomes:\n",
    "        query_group = query_grouped.get_group(chrom)\n",
    "        annot_group = annot_grouped.get_group(chrom)\n",
    "\n",
    "        query_starts = query_group.start.tolist()\n",
    "        query_ends = query_group.end.tolist()\n",
    "\n",
    "        idx_list = list()    \n",
    "        for pos in annot_group.pos:\n",
    "            idx = bisect.bisect_right(query_starts, pos) - 1\n",
    "            if pos < query_ends[idx]:\n",
    "                idx_list.append(idx)\n",
    "#             else:\n",
    "#                 print(chrom, pos, query_starts[idx], query_ends[idx])\n",
    "            idx_list = sorted(set(idx_list))\n",
    "        df_list.append(query_group.iloc[idx_list])\n",
    "\n",
    "    query_overlap = pd.concat(df_list).reset_index(drop=True)\n",
    "\n",
    "    # Add the extra columns that are in `skew_data_dist` so concatention is possible and set `start` and `end` to 0:\n",
    "    query_overlap['prox_start'] = query_overlap.start\n",
    "    query_overlap['prox_end'] = query_overlap.end\n",
    "\n",
    "    query_overlap['start_orig'] = query_overlap.start\n",
    "    query_overlap['end_orig'] = query_overlap.end\n",
    "    query_overlap['start'] = 0\n",
    "    query_overlap['end'] = 0\n",
    "\n",
    "    return query_overlap\n",
    "\n",
    "\n",
    "def remap_data(query, annot):\n",
    "    \"Remap hotspot centers relative to other annotation intervals\"\n",
    "    \n",
    "    annot_centers = annot.assign(start=annot.pos, end=annot.pos)\n",
    "    \n",
    "    query_dist = get_remapped(query, annot_centers)\n",
    "\n",
    "    # must be single base annotation annotation\n",
    "    # for this to work (hotspot centers)\n",
    "    assert not (annot_centers.end - annot_centers.start).sum()    \n",
    "    query_overlap = get_overlapping(query, annot_centers)\n",
    "\n",
    "    merged = pd.concat([query_overlap, query_dist], sort=True)\n",
    "    \n",
    "    merged['pos'] = (merged.start + (merged.end - merged.start) / 2).astype(float).round().astype(int)\n",
    "    merged['bin'] = merged.pos // 1000 * 1000\n",
    "\n",
    "    return merged"
   ]
  },
  {
   "cell_type": "markdown",
   "metadata": {},
   "source": [
    "## Substitution and composition skew around hotspots"
   ]
  },
  {
   "cell_type": "code",
   "execution_count": null,
   "metadata": {},
   "outputs": [],
   "source": [
    "skew_data_hotspot_centered = remap_data(skew_data, hotspots)\n",
    "skew_data_hotspot_centered.head()"
   ]
  },
  {
   "cell_type": "markdown",
   "metadata": {},
   "source": [
    "Distribution of distances of windows to hotspots:"
   ]
  },
  {
   "cell_type": "code",
   "execution_count": null,
   "metadata": {},
   "outputs": [],
   "source": [
    "plt.hist(skew_data_hotspot_centered.start, bins=100) ;"
   ]
  },
  {
   "cell_type": "markdown",
   "metadata": {},
   "source": [
    "Skew around hotspots:"
   ]
  },
  {
   "cell_type": "code",
   "execution_count": null,
   "metadata": {},
   "outputs": [],
   "source": [
    "plot_df = skew_data_hotspot_centered.loc[skew_data_hotspot_centered.bin.abs() < 50000]\n",
    "\n",
    "with warnings.catch_warnings(): # ignore FutureWarning\n",
    "    warnings.simplefilter(\"ignore\")\n",
    "\n",
    "    plt.figure(figsize=(10, 5))\n",
    "    sns.lineplot('bin', 's', data=plot_df, markers=True) ;\n",
    "    plt.axhline(0, color='black', linestyle='dashed')\n",
    "    plt.axvline(0, color='red')\n",
    "    plt.axvline(1000)\n",
    "    plt.axvline(-3000) ;"
   ]
  },
  {
   "cell_type": "markdown",
   "metadata": {},
   "source": [
    "See what happens if I uniformly redistribute hotspot in a window around its original position:"
   ]
  },
  {
   "cell_type": "code",
   "execution_count": null,
   "metadata": {},
   "outputs": [],
   "source": [
    "uniform_range = (-20000, 20000)\n",
    "\n",
    "df = remap_data(skew_data, hotspots.assign(pos=hotspots.pos - np.random.randint(*uniform_range, size=hotspots.pos.size)))\n",
    "\n",
    "plot_df = df.loc[df.bin.abs() < 50000]\n",
    "\n",
    "plt.figure(figsize=(10, 5))\n",
    "sns.lineplot('bin', 's', data=plot_df, markers=True)\n",
    "plt.axhline(0, color='black', linestyle='dashed')\n",
    "plt.axvline(0, color='red')\n",
    "[plt.axvline(x) for x in uniform_range] ;"
   ]
  },
  {
   "cell_type": "markdown",
   "metadata": {},
   "source": [
    "So it seems resonable to assume that hotspots are distributed uniformly within ~5000 bp of the center of replication origin."
   ]
  },
  {
   "cell_type": "markdown",
   "metadata": {},
   "source": [
    "## Proximity of hotspots to closests CGI, TSS and TES"
   ]
  },
  {
   "cell_type": "code",
   "execution_count": null,
   "metadata": {},
   "outputs": [],
   "source": [
    "hotspot_tss_centered = remap_data(hotspots, tss)\n",
    "hotspot_tes_centered = remap_data(hotspots, tes)\n",
    "hotspot_cgi_centered = remap_data(hotspots, cgi)"
   ]
  },
  {
   "cell_type": "code",
   "execution_count": null,
   "metadata": {},
   "outputs": [],
   "source": [
    "fig, (ax1, ax2, ax3) = plt.subplots(1, 3, figsize=(15, 4))\n",
    "ax1.hist(hotspot_cgi_centered.pos, bins=100)\n",
    "ax1.set_title('Proximity to CGI')\n",
    "ax2.hist(hotspot_tss_centered.pos, bins=100)\n",
    "ax2.set_title('Proximity to TSS')\n",
    "ax3.hist(hotspot_tes_centered.pos, bins=100)\n",
    "ax3.set_title('Proximity to TES') ;"
   ]
  },
  {
   "cell_type": "code",
   "execution_count": null,
   "metadata": {},
   "outputs": [],
   "source": [
    "plt.figure(figsize=(12,4))\n",
    "plt.hist(hotspot_cgi_centered.pos.loc[hotspot_cgi_centered.pos.abs() < 50000], bins=200) ;"
   ]
  },
  {
   "cell_type": "markdown",
   "metadata": {},
   "source": [
    "It seems hotspots are **on** CGIs, not close to them."
   ]
  },
  {
   "cell_type": "code",
   "execution_count": null,
   "metadata": {},
   "outputs": [],
   "source": [
    "fig, ax = plt.subplots(1, 1, figsize=(12, 4))\n",
    "\n",
    "hist, bin_edges = np.histogram(hotspot_cgi_centered.pos.abs(), density=True, bins=range(0, 200000, 5000))\n",
    "df = stairs(pd.DataFrame(dict(start=bin_edges[:-1], end=bin_edges[1:], dens=hist)))\n",
    "ax.plot(df.pos, df.dens, label='CGI')\n",
    "ax.fill_between(df.pos, df.dens, alpha=0.1)\n",
    "\n",
    "hist, bin_edges = np.histogram(hotspot_tss_centered.pos.abs(), density=True, bins=range(0, 200000, 5000))\n",
    "df = stairs(pd.DataFrame(dict(start=bin_edges[:-1], end=bin_edges[1:], dens=hist)))\n",
    "ax.plot(df.pos, df.dens, label='TSS')\n",
    "ax.fill_between(df.pos, df.dens, alpha=0.1)\n",
    "\n",
    "hist, bin_edges = np.histogram(hotspot_tes_centered.pos.abs(), density=True, bins=range(0, 200000, 5000))\n",
    "df = stairs(pd.DataFrame(dict(start=bin_edges[:-1], end=bin_edges[1:], dens=hist)))\n",
    "ax.plot(df.pos, df.dens, label='TES')\n",
    "ax.fill_between(df.pos, df.dens, alpha=0.1)\n",
    "\n",
    "plt.ylim(0)\n",
    "plt.xlim(0) ;"
   ]
  },
  {
   "cell_type": "markdown",
   "metadata": {},
   "source": [
    "Mean and median distance to CGIs:"
   ]
  },
  {
   "cell_type": "code",
   "execution_count": null,
   "metadata": {},
   "outputs": [],
   "source": [
    "hotspot_cgi_centered.pos.abs().mean(), hotspot_cgi_centered.pos.abs().median()"
   ]
  },
  {
   "cell_type": "markdown",
   "metadata": {},
   "source": [
    "Mean and median distance to TSS:"
   ]
  },
  {
   "cell_type": "code",
   "execution_count": null,
   "metadata": {},
   "outputs": [],
   "source": [
    "hotspot_tss_centered.pos.abs().mean(), hotspot_tss_centered.pos.abs().median()"
   ]
  },
  {
   "cell_type": "markdown",
   "metadata": {},
   "source": [
    "Mean and median distance to TES:"
   ]
  },
  {
   "cell_type": "code",
   "execution_count": null,
   "metadata": {},
   "outputs": [],
   "source": [
    "hotspot_tes_centered.pos.abs().mean(), hotspot_tes_centered.pos.abs().median()"
   ]
  },
  {
   "cell_type": "markdown",
   "metadata": {},
   "source": [
    "How many hotspots overlap a CGI?"
   ]
  },
  {
   "cell_type": "code",
   "execution_count": null,
   "metadata": {},
   "outputs": [],
   "source": [
    "nr_hotspots_close_to_cgi = len(hotspot_cgi_centered.loc[hotspot_cgi_centered.pos.abs() == 0])\n",
    "nr_hotspots_close_to_cgi, len(hotspots), nr_hotspots_close_to_cgi / len(hotspots)"
   ]
  },
  {
   "cell_type": "markdown",
   "metadata": {},
   "source": [
    "How many hotspots overlap a TSS?"
   ]
  },
  {
   "cell_type": "code",
   "execution_count": null,
   "metadata": {},
   "outputs": [],
   "source": [
    "nr_hotspots_close_to_tss = len(hotspot_tss_centered.loc[hotspot_tss_centered.pos.abs() == 0])\n",
    "nr_hotspots_close_to_tss, len(hotspots), nr_hotspots_close_to_tss / len(hotspots)"
   ]
  },
  {
   "cell_type": "markdown",
   "metadata": {},
   "source": [
    "Mean and median distance to TSS:"
   ]
  },
  {
   "cell_type": "markdown",
   "metadata": {},
   "source": [
    "## Significance of proximities"
   ]
  },
  {
   "cell_type": "code",
   "execution_count": null,
   "metadata": {},
   "outputs": [],
   "source": [
    "genominterv.proximity_test(hotspots, cgi)"
   ]
  },
  {
   "cell_type": "code",
   "execution_count": null,
   "metadata": {},
   "outputs": [],
   "source": [
    "genominterv.proximity_test(hotspots, tss)"
   ]
  },
  {
   "cell_type": "code",
   "execution_count": null,
   "metadata": {},
   "outputs": [],
   "source": [
    "genominterv.proximity_test(hotspots, tes)"
   ]
  },
  {
   "cell_type": "markdown",
   "metadata": {},
   "source": [
    "## Substitution and composition skew around CGI"
   ]
  },
  {
   "cell_type": "code",
   "execution_count": null,
   "metadata": {},
   "outputs": [],
   "source": [
    "skew_data_cgi_centered = remap_data(skew_data, cgi)"
   ]
  },
  {
   "cell_type": "code",
   "execution_count": null,
   "metadata": {},
   "outputs": [],
   "source": [
    "plt.figure(figsize=(10, 5))\n",
    "plot_df = (skew_data_cgi_centered\n",
    "           .loc[skew_data_cgi_centered.bin.abs() < 50000]\n",
    "          )\n",
    "\n",
    "sns.lineplot('bin', 's', data=plot_df, markers=True)\n",
    "plt.axhline(0, color='black', linestyle='dashed')\n",
    "plt.axvline(0, color='red')\n",
    "plt.axvline(1000)\n",
    "plt.axvline(-1000) ;"
   ]
  },
  {
   "cell_type": "markdown",
   "metadata": {},
   "source": [
    "So it seems that origins are exactly at CGIs, even more precicely so than for hotspots. It also seems like the skew persists further from CGIs than from hotspots, but may that is just because there is more data here."
   ]
  },
  {
   "cell_type": "markdown",
   "metadata": {},
   "source": [
    "**NB:** Here the center is not pushed to one side, so it seems skew data and genomintrv is fine and that it is the hotspot coordindates that are a bit off."
   ]
  },
  {
   "cell_type": "markdown",
   "metadata": {},
   "source": [
    "## Substitution and composition skew around TSS and TES"
   ]
  },
  {
   "cell_type": "code",
   "execution_count": null,
   "metadata": {},
   "outputs": [],
   "source": [
    "skew_data_tss_centered = remap_data(skew_data, tss)\n",
    "skew_data_tss_plus_centered = remap_data(skew_data, tss_plus)\n",
    "skew_data_tss_minus_centered = remap_data(skew_data, tss_minus)"
   ]
  },
  {
   "cell_type": "code",
   "execution_count": null,
   "metadata": {},
   "outputs": [],
   "source": [
    "fig, (ax1, ax2) = plt.subplots(2, 1, figsize=(10, 7))\n",
    "plot_df = (skew_data_tss_plus_centered\n",
    "           .loc[skew_data_tss_plus_centered.bin.abs() < 200000]\n",
    "          )\n",
    "\n",
    "sns.lineplot('bin', 's', data=plot_df, markers=True, ax=ax1)\n",
    "ax1.axhline(0, color='black', linestyle='dashed')\n",
    "ax1.axvline(0, color='red')\n",
    "\n",
    "plot_df = (skew_data_tss_minus_centered\n",
    "           .loc[skew_data_tss_minus_centered.bin.abs() < 200000]\n",
    "          )\n",
    "\n",
    "sns.lineplot('bin', 's', data=plot_df, markers=True, ax=ax2)\n",
    "ax2.axhline(0, color='black', linestyle='dashed')\n",
    "ax2.axvline(0, color='red') ;"
   ]
  },
  {
   "cell_type": "markdown",
   "metadata": {},
   "source": [
    "**NB:** This does not make sense..."
   ]
  },
  {
   "cell_type": "markdown",
   "metadata": {},
   "source": [
    "## Skew around subset of hotspots in introns"
   ]
  },
  {
   "cell_type": "code",
   "execution_count": null,
   "metadata": {},
   "outputs": [],
   "source": [
    "#hotspots_in_introns.loc[lambda df: df.start.isnull()]\n"
   ]
  },
  {
   "cell_type": "code",
   "execution_count": null,
   "metadata": {},
   "outputs": [],
   "source": [
    "hotspots_in_introns = genominterv.ovl_interval_data(hotspots, introns)\n",
    "hotspots_in_introns['pos'] = (hotspots_in_introns.start + \\\n",
    "                              (hotspots_in_introns.end - hotspots_in_introns.start) / 2).round().astype(int)"
   ]
  },
  {
   "cell_type": "code",
   "execution_count": null,
   "metadata": {},
   "outputs": [],
   "source": [
    "plot_df = (skew_data_hotspot_centered\n",
    "           .merge(hotspots_in_introns, \n",
    "                  left_on=['chrom', 'prox_start', 'prox_end'],\n",
    "                  right_on=['chrom', 'pos', 'pos'])\n",
    "           .loc[lambda df: df.bin.abs() < 50000]\n",
    "          )\n",
    "\n",
    "plt.figure(figsize=(10, 5))\n",
    "sns.lineplot('bin', 's', data=plot_df, markers=True)\n",
    "plt.axhline(0, color='black', linestyle='dashed')\n",
    "plt.axvline(0, color='red') ;"
   ]
  },
  {
   "cell_type": "code",
   "execution_count": null,
   "metadata": {},
   "outputs": [],
   "source": [
    "plot_df = (skew_data_hotspot_centered\n",
    "           .merge(hotspots_in_introns, \n",
    "                  left_on=['chrom', 'prox_start', 'prox_end'],\n",
    "                  right_on=['chrom', 'pos', 'pos'])\n",
    "           .loc[lambda df: df.bin.abs() < 50000]\n",
    "          )\n",
    "plot_df['bin'] = plot_df.bin * plot_df.strand\n",
    "\n",
    "plt.figure(figsize=(10, 5))\n",
    "sns.lineplot('bin', 's', data=plot_df, markers=True)\n",
    "plt.axhline(0, color='black', linestyle='dashed')\n",
    "plt.axvline(0, color='red') ;"
   ]
  },
  {
   "cell_type": "markdown",
   "metadata": {},
   "source": [
    "It seems that the skew is about the same for all hotspots and for hotspots in introns."
   ]
  },
  {
   "cell_type": "markdown",
   "metadata": {},
   "source": [
    "So it does not look like it is the proximity to TSSs that explains the skew... Maybe hotspots are only in the TSS that are also origins? "
   ]
  },
  {
   "cell_type": "markdown",
   "metadata": {},
   "source": [
    "## Skew around hotspots at CGIs and far from CGIs"
   ]
  },
  {
   "cell_type": "code",
   "execution_count": null,
   "metadata": {},
   "outputs": [],
   "source": [
    "hotspots_at_cgi = remap_data(cgi, hotspots).loc[lambda df: df.pos.abs() < 5000, \n",
    "                                                ['chrom', 'prox_start', 'prox_end']].drop_duplicates()\n",
    "plot_df = (skew_data_hotspot_centered\n",
    "           .merge(hotspots_at_cgi, on=['chrom', 'prox_start', 'prox_end'])\n",
    "           .loc[lambda df: df.bin.abs() < 50000]\n",
    "          )\n",
    "\n",
    "# with warnings.catch_warnings(): # ignore FutureWarning\n",
    "#     warnings.simplefilter(\"ignore\")\n",
    "\n",
    "plt.figure(figsize=(10, 5))\n",
    "sns.lineplot('bin', 's', data=plot_df, markers=True, label='At CGI') ;\n",
    "plt.axhline(0, color='black', linestyle='dashed')\n",
    "plt.axvline(0, color='red')\n",
    "\n",
    "hotspots_far_from_cgi = remap_data(cgi, hotspots).loc[lambda df: df.pos.abs() > 100000, \n",
    "                                                ['chrom', 'prox_start', 'prox_end']].drop_duplicates()\n",
    "plot_df = (skew_data_hotspot_centered\n",
    "           .merge(hotspots_far_from_cgi, on=['chrom', 'prox_start', 'prox_end'])\n",
    "           .loc[lambda df: df.bin.abs() < 50000]\n",
    "          )\n",
    "\n",
    "sns.lineplot('bin', 's', data=plot_df, markers=True, label='Far away from CGI') ;"
   ]
  },
  {
   "cell_type": "markdown",
   "metadata": {},
   "source": [
    "So it looks like hotspots show a skew no matter if they are at CGIs or not (all though we cannot rule out that the remaining hotspots are all at undetected CGIs)."
   ]
  },
  {
   "cell_type": "markdown",
   "metadata": {},
   "source": [
    "## Skew around CGIs at hotspots and far from hotspots"
   ]
  },
  {
   "cell_type": "code",
   "execution_count": null,
   "metadata": {},
   "outputs": [],
   "source": [
    "cgi_at_hotspots = remap_data(hotspots, cgi).loc[lambda df: df.pos.abs() < 5000, \n",
    "                                                ['chrom', 'prox_start', 'prox_end']].drop_duplicates()\n",
    "plot_df = (skew_data_cgi_centered\n",
    "           .merge(cgi_at_hotspots, on=['chrom', 'prox_start', 'prox_end'])\n",
    "           .loc[lambda df: df.bin.abs() < 50000]\n",
    "          )\n",
    "\n",
    "plt.figure(figsize=(10, 5))\n",
    "sns.lineplot('bin', 's', data=plot_df, markers=True, label='At hotspot') ;\n",
    "plt.axhline(0, color='black', linestyle='dashed')\n",
    "plt.axvline(0, color='red')\n",
    "\n",
    "cgi_far_from_hotspots = remap_data(hotspots, cgi).loc[lambda df: df.pos.abs() > 100000, \n",
    "                                                ['chrom', 'prox_start', 'prox_end']].drop_duplicates()\n",
    "plot_df = (skew_data_cgi_centered\n",
    "           .merge(cgi_far_from_hotspots, on=['chrom', 'prox_start', 'prox_end'])\n",
    "           .loc[lambda df: df.bin.abs() < 50000]\n",
    "          )\n",
    "\n",
    "sns.lineplot('bin', 's', data=plot_df, markers=True, label='Far away from hotspot') ;"
   ]
  },
  {
   "cell_type": "markdown",
   "metadata": {},
   "source": [
    "## Rank hotspot skews by left half and show right half"
   ]
  },
  {
   "cell_type": "code",
   "execution_count": null,
   "metadata": {},
   "outputs": [],
   "source": [
    "def intgr_left_s_skew(df):\n",
    "    mask = (df.pos > -50000) &  (df.pos < 0)\n",
    "    return (np.sign(df.pos.loc[mask]) * df.s.loc[mask]).sum()\n",
    "\n",
    "values = skew_data_hotspot_centered.groupby(['chrom', 'prox_start', 'prox_end']).apply(intgr_left_s_skew)\n",
    "plt.hist(values, bins=100) ;"
   ]
  },
  {
   "cell_type": "code",
   "execution_count": null,
   "metadata": {},
   "outputs": [],
   "source": [
    "plot_df = (skew_data_hotspot_centered\n",
    "           .merge(values.to_frame('intgr_left_s_skew'), \n",
    "                  on=['chrom', 'prox_start', 'prox_end'], \n",
    "                  how='left')\n",
    "#            .loc[lambda df: (df.pos >= 0) & (df.pos < 50000)]\n",
    "           .loc[lambda df: df.pos.abs() < 50000]\n",
    "          )\n",
    "print(len(plot_df))\n",
    "median = plot_df.intgr_left_s_skew.median()\n",
    "print(median)\n",
    "plot_df['half'] = [x > median and 'upper' or 'lower' for x in plot_df.intgr_left_s_skew]\n",
    "\n",
    "plt.figure(figsize=(10, 5))\n",
    "sns.lineplot('bin', 's', hue='half',data=plot_df, markers=True)\n",
    "plt.xlim(-50000, 50000)\n",
    "plt.axhline(0, color='black', linestyle='dashed')\n",
    "plt.axvline(0, color='red') ;\n",
    "ax = plt.gca()\n",
    "ax.add_patch(Rectangle((-50000, -0.2), 50000, 0.4, facecolor='black', alpha=0.2))"
   ]
  },
  {
   "cell_type": "markdown",
   "metadata": {},
   "source": [
    "It looks like it is only some of the hotspots that contribute the skew."
   ]
  },
  {
   "cell_type": "markdown",
   "metadata": {},
   "source": [
    "## Rank hotspots by AT_skew and show GC_skew"
   ]
  },
  {
   "cell_type": "code",
   "execution_count": null,
   "metadata": {},
   "outputs": [],
   "source": [
    "def intgr_TA_skew(df):\n",
    "    mask = df.pos.abs() < 5000\n",
    "    return (np.sign(df.pos.loc[mask]) * df.skew_TA.loc[mask]).sum()\n",
    "\n",
    "values = skew_data_hotspot_centered.groupby(['chrom', 'prox_start', 'prox_end']).apply(intgr_TA_skew)\n",
    "plt.hist(values, bins=100) ;"
   ]
  },
  {
   "cell_type": "markdown",
   "metadata": {},
   "source": [
    "## Other idea: sort by even and show uneven"
   ]
  },
  {
   "cell_type": "code",
   "execution_count": null,
   "metadata": {},
   "outputs": [],
   "source": [
    "plot_df = (skew_data_hotspot_centered\n",
    "           .merge(values.to_frame('intgr_TA_skew'), \n",
    "                  on=['chrom', 'prox_start', 'prox_end'], \n",
    "                  how='left')\n",
    "           .loc[lambda df: df.pos.abs() < 50000]\n",
    "          )\n",
    "median = plot_df.intgr_TA_skew.median()\n",
    "print(median)\n",
    "plot_df['half'] = [x > median and 'upper' or 'lower' for x in plot_df.intgr_TA_skew]\n",
    "\n",
    "plt.figure(figsize=(10, 5))\n",
    "sns.lineplot('bin', 'skew_GC', hue='half', data=plot_df, markers=True)\n",
    "plt.title('skew_GC') ;\n",
    "plt.axhline(0, color='black', linestyle='dashed')\n",
    "plt.axvline(0, color='red') ;"
   ]
  },
  {
   "cell_type": "markdown",
   "metadata": {},
   "source": [
    "## Rank CGIs by AT_skew and show GC_skew"
   ]
  },
  {
   "cell_type": "code",
   "execution_count": null,
   "metadata": {},
   "outputs": [],
   "source": [
    "values = skew_data_cgi_centered.groupby(['chrom', 'prox_start', 'prox_end']).apply(intgr_TA_skew)\n",
    "plt.hist(values, bins=100) ;"
   ]
  },
  {
   "cell_type": "code",
   "execution_count": null,
   "metadata": {},
   "outputs": [],
   "source": [
    "plot_df = (skew_data_cgi_centered\n",
    "           .merge(values.to_frame('intgr_TA_skew'), \n",
    "                  on=['chrom', 'prox_start', 'prox_end'], \n",
    "                  how='left')\n",
    "           .loc[lambda df: df.pos.abs() < 50000]\n",
    "          )\n",
    "median = plot_df.intgr_TA_skew.median()\n",
    "plot_df['half'] = [x > median and 'upper' or 'lower' for x in plot_df.intgr_TA_skew]\n",
    "print(len(plot_df))\n",
    "plt.figure(figsize=(10, 5))\n",
    "sns.lineplot('bin', 'skew_GC', hue='half', data=plot_df, markers=True)\n",
    "plt.title('skew_GC')\n",
    "plt.axhline(0, color='black', linestyle='dashed')\n",
    "plt.axvline(0, color='red') ;"
   ]
  },
  {
   "cell_type": "markdown",
   "metadata": {},
   "source": [
    "It looks like it is only some of the CGIs that contribute the skew."
   ]
  },
  {
   "cell_type": "markdown",
   "metadata": {},
   "source": [
    "# is the subset of hotspots with skew overlapping the subset of CGIs with skew. Do the same as above, but split into hotspots overlapping CGIS and hotspots that do not. Do the same for CGIs."
   ]
  },
  {
   "cell_type": "markdown",
   "metadata": {},
   "source": [
    "## Permute hotspot positions with sampled distances between hotspots and TSS"
   ]
  },
  {
   "cell_type": "code",
   "execution_count": null,
   "metadata": {},
   "outputs": [],
   "source": [
    "sampled_dist = hotspot_tss_centered.pos.sample(hotspots.pos.size, replace=True).array\n",
    "\n",
    "df = remap_data(skew_data, hotspots.assign(pos=hotspots.pos + sampled_dist))\n",
    "\n",
    "plot_df = df.loc[df.bin.abs() < 50000]\n",
    "\n",
    "plt.figure(figsize=(10, 5))\n",
    "sns.lineplot('bin', 's', data=plot_df, markers=True)\n",
    "plt.axhline(0, color='black', linestyle='dashed')\n",
    "plt.axvline(0, color='red')"
   ]
  },
  {
   "cell_type": "markdown",
   "metadata": {},
   "source": [
    "## Sort hotspots based on their integrated s score"
   ]
  },
  {
   "cell_type": "markdown",
   "metadata": {},
   "source": [
    "# IT DOES NOT MAKE SENSE THAT PROX START IS ZERO DOES IT?..."
   ]
  },
  {
   "cell_type": "markdown",
   "metadata": {},
   "source": [
    "\n"
   ]
  },
  {
   "cell_type": "markdown",
   "metadata": {},
   "source": [
    "## TODO\n",
    "\n",
    "Do hotspots preferentialy hit CGIs that are origins?\n",
    "\n",
    "\n",
    "How many hotspots or CGIs *can* be origins, it they are spaced like in mammals and other animals?\n",
    "\n",
    "Do Jonas predict CpG islands or just GC rich regions?\n",
    "\n",
    "Is it possible that these regions are produced by gBGC?\n",
    "\n",
    "\n",
    "\n",
    "So we need to figure out if CGIs only show skew if they are hotspots. We do not have a lot of power to do this becuase we do not have hotspots for the entire genome. This means a CGI may not overlap a hotspot simply because the matching hotspot is not called. Maybe I can get around this by only considerting CGIs close to called hotspots, or by maching each CGI with hotspot with a nearby CGI without hotspot.\n",
    "\n",
    "\n",
    "Skew is roughly the same at CGIs and hotspots, but only 2/3 of hotspots are at CGIs. See if the overlapping hotspots has different skew than nonoverlapping ones and than non-overlapping CGIs.\n",
    "\n",
    "Check correlation between AT and GC skew.\n",
    "\n",
    "Sort and bin (devide by median) hotspots AT_skew and evaluate GC_skew and overlap to CGIs in each bin.\n",
    "\n",
    "Sort and bin (devide by median) CGIs AT_skew and evaluate GC_skew and overlap to hotspots in each bin.\n",
    "\n",
    "\n",
    "See if GC* is as high in CGIs as in hotspots\n",
    "\n",
    "It looks like the pattern for hotspots and CGIs are the same. Check if that means that hotspots not overlapping CGIs do not have skew. Split hostpost into those overlapping CGIs and those that do not (like I did below for TSSs)\n",
    "\n",
    "\n",
    "\n",
    "- Make sure I do not have a 1000bp bug in genomintrv\n",
    "- Figure out why skew at hotspts TSS plus and minus look weird (opposite what they should).\n",
    "- Sort hotspots based on integrated s value and make hotspot subsets with different amout of skew to see if there is a subset with no skew.\n",
    "\n",
    "- Also try to group by distance from TSS or CpG.\n",
    "\n",
    "        bins = hotspot_skew_data.closest_orig // 100000 * 100000\n",
    "        grouped = hotspot_skew_data.groupby(bins)\n",
    "        fig, axes = plt.subplots(1, 3, figsize=(15, 4))\n",
    "        for i, x in enumerate(range(0, 300000, 100000)):\n",
    "            df = grouped.get_group(x)\n",
    "            print(len(df.prox_start.unique()))\n",
    "            sns.lineplot('bin', 's', data=df.loc[df.bin.abs() < 50000], ax=axes[i])\n",
    "\n",
    "- Look at substitution skews.\n",
    "- Look at how center GC or GC* relates to S skew across region (or maybe just AT_skew that is independent).\n",
    "- For each species, plot center nX2G+nX2C vs. (nX2G-nX2C)/(nX2G+nX2C) (properly normalized with composition counts) If they do not track each other the relation between replication and hotspots is probably not causal (but just reflects that they often hit the same regions)\n",
    "- Replicate analysis for the other substitutions skews.\n",
    "- Split hotspots by annotation and do separate bias plots to see if there is differet bias in hotspots that are not in promoters.\n",
    "- What does composition and substitution bias profiles look like at the inferred origins?\n",
    "\n",
    "\n",
    "\n",
    "\n"
   ]
  },
  {
   "cell_type": "markdown",
   "metadata": {},
   "source": [
    "## Extra:\n",
    "\n",
    "Color signature plot with phyl distance from zebra finch\n"
   ]
  }
 ],
 "metadata": {
  "kernelspec": {
   "display_name": "Python 3 (ipykernel)",
   "language": "python",
   "name": "python3"
  },
  "language_info": {
   "codemirror_mode": {
    "name": "ipython",
    "version": 3
   },
   "file_extension": ".py",
   "mimetype": "text/x-python",
   "name": "python",
   "nbconvert_exporter": "python",
   "pygments_lexer": "ipython3",
   "version": "3.7.13"
  }
 },
 "nbformat": 4,
 "nbformat_minor": 4
}
