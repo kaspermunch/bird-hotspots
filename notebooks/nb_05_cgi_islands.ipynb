{
 "cells": [
  {
   "cell_type": "code",
   "execution_count": 1,
   "metadata": {},
   "outputs": [],
   "source": [
    "from scipy import signal\n",
    "import numpy as np\n",
    "import pandas as pd\n",
    "import bisect\n",
    "import importlib\n",
    "import warnings\n",
    "from pathlib import Path\n",
    "import gc\n",
    "\n",
    "import ete3\n",
    "np.random.seed(7)"
   ]
  },
  {
   "cell_type": "markdown",
   "metadata": {},
   "source": [
    "Plotting setup:"
   ]
  },
  {
   "cell_type": "code",
   "execution_count": 4,
   "metadata": {},
   "outputs": [],
   "source": [
    "%matplotlib inline\n",
    "\n",
    "# Make inline plots vector graphics instead of raster graphics\n",
    "from matplotlib_inline.backend_inline import set_matplotlib_formats\n",
    "#set_matplotlib_formats('pdf', 'svg')\n",
    "set_matplotlib_formats('retina', 'png')\n",
    "\n",
    "import matplotlib\n",
    "import matplotlib.pyplot as plt\n",
    "from matplotlib.colors import ListedColormap\n",
    "from matplotlib.patches import Rectangle\n",
    "from matplotlib.lines import Line2D\n",
    "\n",
    "#matplotlib.rcParams['figure.figsize'] = (20.0, 10.0)\n",
    "\n",
    "# import mpld3\n",
    "\n",
    "import seaborn as sns\n",
    "sns.set() # sets seaborn default \"prettyness:\n",
    "sns.set_style(\"white\")\n",
    "sns.set_context(\"notebook\")\n",
    "\n",
    "# lowess for plotting\n",
    "from statsmodels.nonparametric.smoothers_lowess import lowess\n",
    "\n",
    "def stairs(df, start='start', end='end', pos='pos', endtrim=0):\n",
    "    \"Turn a df with start, end into one with pos to plot as stairs\"\n",
    "    df1 = df.copy(deep=True)\n",
    "    df2 = df.copy(deep=True)\n",
    "    df1[pos] = df1[start]\n",
    "    df2[pos] = df2[end] - endtrim\n",
    "    return pd.concat([df1, df2]).sort_values([start, end])"
   ]
  },
  {
   "cell_type": "markdown",
   "metadata": {},
   "source": [
    "Monospace font for numbers in tables:"
   ]
  },
  {
   "cell_type": "code",
   "execution_count": 5,
   "metadata": {},
   "outputs": [
    {
     "data": {
      "text/html": [
       "<style> table { font-variant-numeric: tabular-nums; } </style>\n"
      ],
      "text/plain": [
       "<IPython.core.display.HTML object>"
      ]
     },
     "metadata": {},
     "output_type": "display_data"
    }
   ],
   "source": [
    "%%html\n",
    "<style> table { font-variant-numeric: tabular-nums; } </style>"
   ]
  },
  {
   "cell_type": "markdown",
   "metadata": {},
   "source": [
    "## Data dir"
   ]
  },
  {
   "cell_type": "code",
   "execution_count": 6,
   "metadata": {},
   "outputs": [],
   "source": [
    "data_path = Path('/project/Birds/faststorage/data')\n",
    "results_path = Path('/project/Birds/faststorage/people/kmt/bird-hotspots/results')"
   ]
  },
  {
   "cell_type": "code",
   "execution_count": 7,
   "metadata": {},
   "outputs": [],
   "source": [
    "# cgi_data = (pd.read_hdf(results_path / 'cgi_data.h5')\n",
    "#                 .loc[lambda df: ~df.species.isin(['HALAL']), \n",
    "#                      ['species', 'chrom', 'start_orig', 'end_orig', 'start', 'end', 'start_prox', 'end_prox']]\n",
    "#                )\n",
    "# cgi_data.species.cat.remove_unused_categories(inplace=True)\n",
    "\n",
    "# promoter_data = (pd.read_hdf(results_path / 'promoter_data.h5')\n",
    "#                 .loc[lambda df: ~df.species.isin(['HALAL']), \n",
    "#                      ['species', 'chrom', 'start_orig', 'end_orig', 'start', 'end', 'start_prox', 'end_prox']]\n",
    "#                )\n",
    "# promoter_data.species.cat.remove_unused_categories(inplace=True)\n",
    "\n",
    "# tss_data = (pd.read_hdf(results_path / 'tss_data.h5')\n",
    "#                 .loc[lambda df: ~df.species.isin(['HALAL']), \n",
    "#                      ['species', 'chrom', 'start_orig', 'end_orig', 'start', 'end', 'start_prox', 'end_prox']]\n",
    "#                )\n",
    "# tss_data.species.cat.remove_unused_categories(inplace=True)\n",
    "\n",
    "# tes_data = (pd.read_hdf(results_path / 'tes_data.h5')\n",
    "#                 .loc[lambda df: ~df.species.isin(['HALAL']), \n",
    "#                      ['species', 'chrom', 'start_orig', 'end_orig', 'start', 'end', 'start_prox', 'end_prox']]\n",
    "#                )\n",
    "# tes_data.species.cat.remove_unused_categories(inplace=True)"
   ]
  },
  {
   "cell_type": "code",
   "execution_count": 8,
   "metadata": {},
   "outputs": [
    {
     "ename": "NameError",
     "evalue": "name 'hotspot_data' is not defined",
     "output_type": "error",
     "traceback": [
      "\u001b[0;31m---------------------------------------------------------------------------\u001b[0m",
      "\u001b[0;31mNameError\u001b[0m                                 Traceback (most recent call last)",
      "\u001b[0;32m/scratch/63465266/ipykernel_31845/1571814666.py\u001b[0m in \u001b[0;36m<module>\u001b[0;34m\u001b[0m\n\u001b[0;32m----> 1\u001b[0;31m hotspot_data.merge(cgi_data, how='left', suffixes=('', '_cgi'),\n\u001b[0m\u001b[1;32m      2\u001b[0m                       on=['species', 'chrom', 'start_orig', 'end_orig'])\n\u001b[1;32m      3\u001b[0m hotspot_data.merge(promoter_data, how='left', suffixes=('', '_promoter'),\n\u001b[1;32m      4\u001b[0m                       on=['species', 'chrom', 'start_orig', 'end_orig'])\n\u001b[1;32m      5\u001b[0m hotspot_data.merge(tss_data, how='left', suffixes=('', '_tss'),\n",
      "\u001b[0;31mNameError\u001b[0m: name 'hotspot_data' is not defined"
     ]
    }
   ],
   "source": [
    "hotspot_data.merge(cgi_data, how='left', suffixes=('', '_cgi'),\n",
    "                      on=['species', 'chrom', 'start_orig', 'end_orig'])\n",
    "hotspot_data.merge(promoter_data, how='left', suffixes=('', '_promoter'),\n",
    "                      on=['species', 'chrom', 'start_orig', 'end_orig'])\n",
    "hotspot_data.merge(tss_data, how='left', suffixes=('', '_tss'),\n",
    "                      on=['species', 'chrom', 'start_orig', 'end_orig'])\n",
    "hotspot_data.merge(tes_data, how='left', suffixes=('', '_tes'),\n",
    "                      on=['species', 'chrom', 'start_orig', 'end_orig'])"
   ]
  },
  {
   "cell_type": "code",
   "execution_count": null,
   "metadata": {},
   "outputs": [],
   "source": []
  }
 ],
 "metadata": {
  "kernelspec": {
   "display_name": "Python 3 (ipykernel)",
   "language": "python",
   "name": "python3"
  },
  "language_info": {
   "codemirror_mode": {
    "name": "ipython",
    "version": 3
   },
   "file_extension": ".py",
   "mimetype": "text/x-python",
   "name": "python",
   "nbconvert_exporter": "python",
   "pygments_lexer": "ipython3",
   "version": "3.8.16"
  }
 },
 "nbformat": 4,
 "nbformat_minor": 4
}
